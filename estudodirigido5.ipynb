{
 "cells": [
  {
   "cell_type": "markdown",
   "metadata": {},
   "source": [
    "Aluno:Eduardo Fontes Baltazar da Silveira"
   ]
  },
  {
   "cell_type": "code",
   "execution_count": null,
   "metadata": {},
   "outputs": [],
   "source": [
    "import cv2\n",
    "\n",
    "def process_video_difference(video_path):\n",
    "    cap = cv2.VideoCapture(video_path)\n",
    "    # Ler o primeiro frame\n",
    "    ret, prev_frame = cap.read()\n",
    "    # Converter o primeiro frame para escala de cinza\n",
    "    prev_gray = cv2.cvtColor(prev_frame, cv2.COLOR_BGR2GRAY)\n",
    "    while True:\n",
    "        # Ler o próximo frame\n",
    "        ret, current_frame = cap.read()\n",
    "        if not ret:\n",
    "            print(\"Fim do vídeo.\")\n",
    "            break\n",
    "        \n",
    "        # Converter o frame atual para escala de cinza\n",
    "        current_gray = cv2.cvtColor(current_frame, cv2.COLOR_BGR2GRAY)\n",
    "        \n",
    "        # Calcular a diferença absoluta entre os frames\n",
    "        frame_diff = cv2.absdiff(prev_gray, current_gray)\n",
    "        \n",
    "        # Exibir o frame atual e a diferença\n",
    "        cv2.imshow(\"Frame Atual\", current_gray)\n",
    "        cv2.imshow(\"Diferença entre Frames\", frame_diff)\n",
    "        \n",
    "        # Atualizar o frame anterior\n",
    "        prev_gray = current_gray\n",
    "        \n",
    "        # Pausar para exibição\n",
    "        key = cv2.waitKey(30)  # Altere este valor para controlar a velocidade\n",
    "        if key & 0xFF == ord('q'):\n",
    "            print(\"Execução interrompida pelo usuário.\")\n",
    "            break\n",
    "    \n",
    "    # Liberar os recursos\n",
    "    cap.release()\n",
    "    cv2.destroyAllWindows()\n",
    "    print(\"Processamento concluído.\")\n",
    "\n",
    "video_path = \"traffic_sequence.mpeg\"  # Substitua pelo caminho correto do vídeo\n",
    "process_video_difference(video_path)\n"
   ]
  }
 ],
 "metadata": {
  "kernelspec": {
   "display_name": "Python 3",
   "language": "python",
   "name": "python3"
  },
  "language_info": {
   "codemirror_mode": {
    "name": "ipython",
    "version": 3
   },
   "file_extension": ".py",
   "mimetype": "text/x-python",
   "name": "python",
   "nbconvert_exporter": "python",
   "pygments_lexer": "ipython3",
   "version": "3.12.5"
  }
 },
 "nbformat": 4,
 "nbformat_minor": 2
}
