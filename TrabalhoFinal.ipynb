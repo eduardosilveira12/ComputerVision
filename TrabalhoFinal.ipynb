{
 "cells": [
  {
   "cell_type": "markdown",
   "metadata": {},
   "source": [
    "# Trabalho Final Visão Computacional\n",
    "# Eduardo Fontes e Guilherme Dórea"
   ]
  },
  {
   "cell_type": "markdown",
   "metadata": {},
   "source": [
    "# Rastreamento de Pose de um Objeto com OpenCV\n",
    "\n",
    "Este notebook tem como objetivo implementar um sistema para determinar a pose (posição e orientação) de uma caixa vermelha posicionada em cima de um robô móvel. O sistema deve rastrear a caixa em um vídeo, armazenar a pose para cada frame e gerar um novo vídeo com a trajetória plotada.\n",
    "\n",
    "## 1. Importação das Bibliotecas\n",
    "\n",
    "Primeiro, importamos as bibliotecas necessárias para o processamento de imagens e visualização."
   ]
  },
  {
   "cell_type": "code",
   "execution_count": 45,
   "metadata": {},
   "outputs": [],
   "source": [
    "import cv2 as cv\n",
    "import numpy as np\n",
    "import matplotlib.pyplot as plt\n",
    "import matplotlib.image as mpimg"
   ]
  },
  {
   "cell_type": "markdown",
   "metadata": {},
   "source": [
    "## 2. Função para Interpolar a Curva de Movimento\n",
    "\n",
    "A função `interpolate_curve` é responsável por plotar a curva interpolada do movimento do objeto rastreado."
   ]
  },
  {
   "cell_type": "code",
   "execution_count": 46,
   "metadata": {},
   "outputs": [],
   "source": [
    "def interpolate_curve(path):\n",
    "    path = np.array(path)\n",
    "    plt.figure()\n",
    "    plt.plot(path[:, 0], path[:, 1], 'b-', label='Interpolated Path')\n",
    "    plt.title(\"Interpolated Curve of Movement\")\n",
    "    plt.xlabel(\"X\")\n",
    "    plt.ylabel(\"Y\")\n",
    "    plt.legend()\n",
    "    plt.show()"
   ]
  },
  {
   "cell_type": "markdown",
   "metadata": {},
   "source": [
    "## 3. Função Principal de Rastreamento\n",
    "\n",
    "A função `track_husky` é a principal função do sistema. Ela realiza o rastreamento do objeto vermelho em um vídeo, aplica máscaras para filtrar regiões indesejadas, detecta o objeto e plota a trajetória."
   ]
  },
  {
   "cell_type": "code",
   "execution_count": 47,
   "metadata": {},
   "outputs": [],
   "source": [
    "def track_husky(video_path, name, outpath, display=True):\n",
    "    cap = cv.VideoCapture(video_path)\n",
    "\n",
    "    # Motion detection and background subtraction\n",
    "    background_remover = cv.createBackgroundSubtractorKNN(history=500, dist2Threshold=400, detectShadows=True)\n",
    "\n",
    "    frames = []\n",
    "    path = []\n",
    "\n",
    "    while cap.isOpened():\n",
    "        ret, frame = cap.read()\n",
    "        if not ret:\n",
    "            break\n",
    "\n",
    "        result = frame.copy()\n",
    "\n",
    "        # Convert to HSV for color filtering\n",
    "        image = cv.cvtColor(frame, cv.COLOR_BGR2HSV)\n",
    "\n",
    "        # Color filter for red\n",
    "        lower_red = np.array([165, 50, 0])\n",
    "        upper_red = np.array([180, 255, 255])\n",
    "        color_mask = cv.inRange(image, lower_red, upper_red)\n",
    "        red_isolated = cv.bitwise_and(result, result, mask=color_mask)\n",
    "\n",
    "        # Define a rectangular region to exclude areas\n",
    "        rect_start = (0, 450)\n",
    "        rect_end = (600, 600)\n",
    "        rec_mask = np.zeros(image.shape[:2], dtype=np.uint8)\n",
    "        cv.rectangle(rec_mask, rect_start, rect_end, 255, thickness=cv.FILLED)\n",
    "        inverse_rec_mask = cv.bitwise_not(rec_mask)\n",
    "\n",
    "        # Define a triangular region to exclude areas\n",
    "        triangle_mask = np.zeros(image.shape[:2], dtype=np.uint8)\n",
    "        triangle_vertices = np.array([(350, 600), (1000, 600), (1000, 270)])\n",
    "        cv.fillPoly(triangle_mask, [triangle_vertices], 255)\n",
    "        inverse_triangle_mask = cv.bitwise_not(triangle_mask)\n",
    "\n",
    "        # Combine masks\n",
    "        combined_mask = cv.bitwise_and(inverse_rec_mask, inverse_triangle_mask)\n",
    "        combined_masked = cv.bitwise_and(result, result, mask=combined_mask)\n",
    "\n",
    "        # Apply Gaussian blur and background subtraction\n",
    "        blurred = cv.GaussianBlur(combined_masked, (5, 5), 0)\n",
    "        mask = background_remover.apply(color_mask)\n",
    "        _, mask = cv.threshold(mask, 254, 255, cv.THRESH_BINARY)\n",
    "        mask = cv.morphologyEx(mask, cv.MORPH_OPEN, np.ones((3, 3), np.uint8))\n",
    "        mask = cv.bitwise_and(mask, combined_mask)\n",
    "\n",
    "        # Find contours\n",
    "        contours, _ = cv.findContours(mask, cv.RETR_TREE, cv.CHAIN_APPROX_NONE)\n",
    "        max_cnt = None\n",
    "        max_area = 0\n",
    "\n",
    "        for cnt in contours:\n",
    "            area = cv.contourArea(cnt)\n",
    "            if area > 800 and len(cnt) >= 5 and area > max_area:\n",
    "                max_area = area\n",
    "                max_cnt = cnt\n",
    "\n",
    "        if max_cnt is not None:\n",
    "            ellipse = cv.fitEllipse(max_cnt)\n",
    "            M = cv.moments(max_cnt)\n",
    "            centroid_x = int(M['m10'] / M['m00'])\n",
    "            centroid_y = int(M['m01'] / M['m00'])\n",
    "\n",
    "            # Track centroid\n",
    "            path.append([centroid_x, centroid_y])\n",
    "\n",
    "            cv.ellipse(frame, ellipse, (0, 255, 0), 2)\n",
    "\n",
    "        # Draw path\n",
    "        for point in path:\n",
    "            cv.circle(frame, (point[0], point[1]), 2, (255, 255, 255), -1)\n",
    "\n",
    "        # Combine visualizations\n",
    "        top_row = np.hstack((red_isolated, combined_masked))\n",
    "        bottom_row = np.hstack((blurred, frame))\n",
    "        combined_image = np.vstack((top_row, bottom_row))\n",
    "\n",
    "        # Resize the combined image to fit the screen\n",
    "        scale_percent = 60  # Adjust this value to fit your screen\n",
    "        width = int(combined_image.shape[1] * scale_percent / 100)\n",
    "        height = int(combined_image.shape[0] * scale_percent / 100)\n",
    "        dim = (width, height)\n",
    "        resized_image = cv.resize(combined_image, dim, interpolation=cv.INTER_AREA)\n",
    "\n",
    "        # Display labels\n",
    "        labels = [\"Red Isolated\", \"Region Masked\", \"Blurred + Masked\", \"Tracked Path\"]\n",
    "        positions = [(20, 30), (combined_masked.shape[1] + 20, 30), (20, combined_masked.shape[0] + 30),\n",
    "                     (combined_masked.shape[1] + 20, combined_masked.shape[0] + 30)]\n",
    "\n",
    "        for label, pos in zip(labels, positions):\n",
    "            cv.putText(resized_image, label, pos, cv.FONT_HERSHEY_SIMPLEX, 1, (255, 255, 255), 2)\n",
    "\n",
    "        if display:\n",
    "            cv.imshow(\"Husky Tracking\", resized_image)\n",
    "\n",
    "        if cv.waitKey(1) & 0xFF == ord('q'):\n",
    "            break\n",
    "\n",
    "        frames.append(frame)\n",
    "\n",
    "    cap.release()\n",
    "    cv.destroyAllWindows()\n",
    "\n",
    "    # Save video\n",
    "    fourcc = cv.VideoWriter_fourcc(*'XVID')\n",
    "    out = cv.VideoWriter(outpath + name + '.avi', fourcc, 20.0, (frames[0].shape[1], frames[0].shape[0]))\n",
    "    for frame in frames:\n",
    "        out.write(frame)\n",
    "    out.release()\n",
    "\n",
    "    # Save movement image\n",
    "    img = frames[5].copy()\n",
    "    step = 3\n",
    "    colors = [(255, 0, 0), (0, 255, 0), (0, 0, 255)]\n",
    "    c_inc = 0\n",
    "\n",
    "    for i in range(step, len(path) - step, step):\n",
    "        u = path[i][0] - path[i - step][0]\n",
    "        v = path[i][1] - path[i - step][1]\n",
    "\n",
    "        if np.sqrt(u**2 + v**2) <= 50:\n",
    "            cv.arrowedLine(img, (path[i - step][0], path[i - step][1]), (path[i][0], path[i][1]),\n",
    "                           colors[c_inc % 3], 2, tipLength=0.4)\n",
    "            c_inc += 1\n",
    "\n",
    "    cv.imwrite(outpath + name + '.png', img)\n",
    "    img = mpimg.imread(outpath + name + '.png')\n",
    "    plt.imshow(img)\n",
    "    plt.axis('off')\n",
    "    plt.title('u, v and Orientation')\n",
    "    plt.show()\n",
    "\n",
    "    interpolate_curve(path)"
   ]
  },
  {
   "cell_type": "markdown",
   "metadata": {},
   "source": [
    "## 4. Execução do Rastreamento\n",
    "\n",
    "Agora, vamos executar a função `track_husky` para rastrear o objeto vermelho no vídeo fornecido."
   ]
  },
  {
   "cell_type": "code",
   "execution_count": 48,
   "metadata": {},
   "outputs": [
    {
     "name": "stdout",
     "output_type": "stream",
     "text": [
      "Não foi possível detectar a posição inicial.\n"
     ]
    }
   ],
   "source": [
    "# Caminho do vídeo de teste\n",
    "test_video_path = \"Video2_husky.mp4\"\n",
    "output_directory = \"output_with_trajectory.mp4\"\n",
    "\n",
    "# Executar a função de rastreamento\n",
    "track_husky(test_video_path, \"tracked_husky\", output_directory, display=True)"
   ]
  },
  {
   "cell_type": "markdown",
   "metadata": {},
   "source": [
    "## 5. Conclusão\n",
    "\n",
    "Neste notebook, implementamos um sistema para rastrear a pose de um objeto vermelho em um vídeo. O sistema utiliza técnicas de processamento de imagem, como filtragem de cores, subtração de fundo e detecção de contornos, para determinar a posição e orientação do objeto. A trajetória do objeto é plotada e salva em um novo vídeo."
   ]
  }
 ],
 "metadata": {
  "kernelspec": {
   "display_name": "Python 3",
   "language": "python",
   "name": "python3"
  },
  "language_info": {
   "codemirror_mode": {
    "name": "ipython",
    "version": 3
   },
   "file_extension": ".py",
   "mimetype": "text/x-python",
   "name": "python",
   "nbconvert_exporter": "python",
   "pygments_lexer": "ipython3",
   "version": "3.10.0"
  }
 },
 "nbformat": 4,
 "nbformat_minor": 2
}
